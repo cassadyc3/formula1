{
 "cells": [
  {
   "cell_type": "markdown",
   "metadata": {},
   "source": [
    "<img width=\"250\" style=\"float:right\" \n",
    "     src=\"https://cdn.i.haymarketmedia.asia/?n=campaign-asia%2Fcontent%2FcroppedF1logo.png&h=570&w=855&q=100&v=20170226&c=1\" />\n",
    "\n",
    "# Formula 1 Analysis\n",
    "\n",
    "### Cassady Cook\n"
   ]
  },
  {
   "cell_type": "markdown",
   "metadata": {},
   "source": [
    "# Sections\n",
    "\n",
    "* [1. PySpark environment setup](#1)\n",
    "  * [1.1 Search for Spark Installation](#1.1)  \n",
    "  * [1.2 Create SparkSession](#1.2)\n",
    "* [2. Data source and Spark data abstraction (DataFrame) setup](#2)\n",
    "* [3. Data sets Meta Analysis](#3)\n",
    "* [4. Machine Learning](#4)\n",
    "  * [6.1 Feature Transformation](#6.1)\n",
    "  * [6.2 Model Training & Selection](#6.2)\n",
    "  * [6.3 Model Predictions](#6.3)"
   ]
  },
  {
   "cell_type": "markdown",
   "metadata": {},
   "source": [
    "<a id='1'></a>\n",
    "## 1. PySpark environment setup\n",
    "\n",
    "To setup our PySpark environment we:\n",
    "1. Search for Spark Installation\n",
    "2. Create SparkSession"
   ]
  },
  {
   "cell_type": "markdown",
   "metadata": {},
   "source": [
    "<a id='1.1'></a>\n",
    "### 1.1 Search for Spark Installation \n",
    "This step is required just because we are working in the course environment."
   ]
  },
  {
   "cell_type": "code",
   "execution_count": 1,
   "metadata": {},
   "outputs": [],
   "source": [
    "import findspark\n",
    "findspark.init()"
   ]
  },
  {
   "cell_type": "markdown",
   "metadata": {},
   "source": [
    "We change pandas max column width property in order to improve data displaying."
   ]
  },
  {
   "cell_type": "code",
   "execution_count": 2,
   "metadata": {},
   "outputs": [],
   "source": [
    "import pandas as pd\n",
    "pd.set_option('display.max_colwidth', None)"
   ]
  },
  {
   "cell_type": "markdown",
   "metadata": {},
   "source": [
    "<a id='1.2'></a>\n",
    "### 1.2 Create SparkSession\n",
    "\n",
    "By setting this environment variable we can include extra libraries in our Spark cluster"
   ]
  },
  {
   "cell_type": "code",
   "execution_count": 3,
   "metadata": {},
   "outputs": [],
   "source": [
    "# To access catalogue in Hive\n",
    "import os\n",
    "os.environ['PYSPARK_SUBMIT_ARGS'] = '--jars /opt/hive3/lib/hive-hcatalog-core-3.1.2.jar pyspark-shell'\n",
    "os.environ['PYSPARK_SUBMIT_ARGS'] = '--packages \"graphframes:graphframes:0.8.2-spark3.2-s_2.12\" --jars /opt/hive3/lib/hive-hcatalog-core-3.1.2.jar pyspark-shell'"
   ]
  },
  {
   "cell_type": "markdown",
   "metadata": {},
   "source": [
    "The first thing always is to create the SparkSession"
   ]
  },
  {
   "cell_type": "code",
   "execution_count": 4,
   "metadata": {},
   "outputs": [
    {
     "name": "stderr",
     "output_type": "stream",
     "text": [
      "WARNING: An illegal reflective access operation has occurred\n",
      "WARNING: Illegal reflective access by org.apache.spark.unsafe.Platform (file:/opt/spark3/jars/spark-unsafe_2.12-3.0.3.jar) to constructor java.nio.DirectByteBuffer(long,int)\n",
      "WARNING: Please consider reporting this to the maintainers of org.apache.spark.unsafe.Platform\n",
      "WARNING: Use --illegal-access=warn to enable warnings of further illegal reflective access operations\n",
      "WARNING: All illegal access operations will be denied in a future release\n",
      "Ivy Default Cache set to: /home/osbdet/.ivy2/cache\n",
      "The jars for the packages stored in: /home/osbdet/.ivy2/jars\n",
      ":: loading settings :: url = jar:file:/opt/spark3/jars/ivy-2.4.0.jar!/org/apache/ivy/core/settings/ivysettings.xml\n",
      "graphframes#graphframes added as a dependency\n",
      ":: resolving dependencies :: org.apache.spark#spark-submit-parent-a6fccac6-7070-466c-b571-d91ac7373cf4;1.0\n",
      "\tconfs: [default]\n",
      "\tfound graphframes#graphframes;0.8.2-spark3.2-s_2.12 in spark-packages\n",
      "\tfound org.slf4j#slf4j-api;1.7.16 in central\n",
      ":: resolution report :: resolve 419ms :: artifacts dl 14ms\n",
      "\t:: modules in use:\n",
      "\tgraphframes#graphframes;0.8.2-spark3.2-s_2.12 from spark-packages in [default]\n",
      "\torg.slf4j#slf4j-api;1.7.16 from central in [default]\n",
      "\t---------------------------------------------------------------------\n",
      "\t|                  |            modules            ||   artifacts   |\n",
      "\t|       conf       | number| search|dwnlded|evicted|| number|dwnlded|\n",
      "\t---------------------------------------------------------------------\n",
      "\t|      default     |   2   |   0   |   0   |   0   ||   2   |   0   |\n",
      "\t---------------------------------------------------------------------\n",
      ":: retrieving :: org.apache.spark#spark-submit-parent-a6fccac6-7070-466c-b571-d91ac7373cf4\n",
      "\tconfs: [default]\n",
      "\t0 artifacts copied, 2 already retrieved (0kB/10ms)\n",
      "Setting default log level to \"WARN\".\n",
      "To adjust logging level use sc.setLogLevel(newLevel). For SparkR, use setLogLevel(newLevel).\n"
     ]
    }
   ],
   "source": [
    "from pyspark.sql import SparkSession\n",
    "\n",
    "spark = (SparkSession.builder\n",
    "    .appName(\"Twitter Analytics - DataFrames\")\n",
    "    .config(\"spark.sql.warehouse.dir\",\"hdfs://localhost:9000/warehouse\")\n",
    "    .config(\"spark.sql.legacy.timeParserPolicy\",\"LEGACY\")\n",
    "    .enableHiveSupport()\n",
    "    .getOrCreate())"
   ]
  },
  {
   "cell_type": "markdown",
   "metadata": {},
   "source": [
    "<a id='2'></a>\n",
    "## 2. Data source and Spark data abstraction (DataFrame) setup\n",
    "\n",
    "\n",
    "- In order to get an overview of the industry, we imported one merged file with data from 2014 to 2021."
   ]
  },
  {
   "cell_type": "markdown",
   "metadata": {},
   "source": [
    "We choose to infer the schema of the datasets as there is too many columns and datasets."
   ]
  },
  {
   "cell_type": "code",
   "execution_count": 5,
   "metadata": {
    "scrolled": true
   },
   "outputs": [
    {
     "name": "stderr",
     "output_type": "stream",
     "text": [
      "                                                                                \r"
     ]
    }
   ],
   "source": [
    "f1_main = spark.read.option(\"inferSchema\", \"true\")\\\n",
    "                    .option(\"header\", \"true\")\\\n",
    "                    .csv(\"f1_personal.csv\")\\\n",
    "                    .cache() # optimization to make processing faster"
   ]
  },
  {
   "cell_type": "code",
   "execution_count": 6,
   "metadata": {},
   "outputs": [
    {
     "data": {
      "text/plain": [
       "[('season', 'int'),\n",
       " ('grand_prix_name', 'string'),\n",
       " ('name', 'string'),\n",
       " ('constructor', 'string'),\n",
       " ('qual_position', 'int'),\n",
       " ('track_name', 'string'),\n",
       " ('city', 'string'),\n",
       " ('country', 'string'),\n",
       " ('type', 'string'),\n",
       " ('finish_position', 'int'),\n",
       " ('points', 'int'),\n",
       " ('number_of_laps', 'int'),\n",
       " ('fastest_lap', 'int')]"
      ]
     },
     "execution_count": 6,
     "metadata": {},
     "output_type": "execute_result"
    }
   ],
   "source": [
    "f1_main.dtypes"
   ]
  },
  {
   "cell_type": "code",
   "execution_count": 7,
   "metadata": {},
   "outputs": [
    {
     "name": "stderr",
     "output_type": "stream",
     "text": [
      "                                                                                \r"
     ]
    },
    {
     "data": {
      "text/html": [
       "<div>\n",
       "<style scoped>\n",
       "    .dataframe tbody tr th:only-of-type {\n",
       "        vertical-align: middle;\n",
       "    }\n",
       "\n",
       "    .dataframe tbody tr th {\n",
       "        vertical-align: top;\n",
       "    }\n",
       "\n",
       "    .dataframe thead th {\n",
       "        text-align: right;\n",
       "    }\n",
       "</style>\n",
       "<table border=\"1\" class=\"dataframe\">\n",
       "  <thead>\n",
       "    <tr style=\"text-align: right;\">\n",
       "      <th></th>\n",
       "      <th>season</th>\n",
       "      <th>grand_prix_name</th>\n",
       "      <th>name</th>\n",
       "      <th>constructor</th>\n",
       "      <th>qual_position</th>\n",
       "      <th>track_name</th>\n",
       "      <th>city</th>\n",
       "      <th>country</th>\n",
       "      <th>type</th>\n",
       "      <th>finish_position</th>\n",
       "      <th>points</th>\n",
       "      <th>number_of_laps</th>\n",
       "      <th>fastest_lap</th>\n",
       "    </tr>\n",
       "  </thead>\n",
       "  <tbody>\n",
       "    <tr>\n",
       "      <th>0</th>\n",
       "      <td>2014</td>\n",
       "      <td>australian</td>\n",
       "      <td>Nico Rosberg</td>\n",
       "      <td>mercedes</td>\n",
       "      <td>3</td>\n",
       "      <td>albert_park</td>\n",
       "      <td>Melbourne</td>\n",
       "      <td>Australia</td>\n",
       "      <td>Street circuit</td>\n",
       "      <td>1</td>\n",
       "      <td>25</td>\n",
       "      <td>57</td>\n",
       "      <td>1</td>\n",
       "    </tr>\n",
       "    <tr>\n",
       "      <th>1</th>\n",
       "      <td>2014</td>\n",
       "      <td>australian</td>\n",
       "      <td>Kevin Magnussen</td>\n",
       "      <td>mclaren</td>\n",
       "      <td>4</td>\n",
       "      <td>albert_park</td>\n",
       "      <td>Melbourne</td>\n",
       "      <td>Australia</td>\n",
       "      <td>Street circuit</td>\n",
       "      <td>2</td>\n",
       "      <td>18</td>\n",
       "      <td>57</td>\n",
       "      <td>0</td>\n",
       "    </tr>\n",
       "    <tr>\n",
       "      <th>2</th>\n",
       "      <td>2014</td>\n",
       "      <td>australian</td>\n",
       "      <td>Jenson Button</td>\n",
       "      <td>mclaren</td>\n",
       "      <td>11</td>\n",
       "      <td>albert_park</td>\n",
       "      <td>Melbourne</td>\n",
       "      <td>Australia</td>\n",
       "      <td>Street circuit</td>\n",
       "      <td>3</td>\n",
       "      <td>15</td>\n",
       "      <td>57</td>\n",
       "      <td>0</td>\n",
       "    </tr>\n",
       "    <tr>\n",
       "      <th>3</th>\n",
       "      <td>2014</td>\n",
       "      <td>australian</td>\n",
       "      <td>Fernando Alonso</td>\n",
       "      <td>ferrari</td>\n",
       "      <td>5</td>\n",
       "      <td>albert_park</td>\n",
       "      <td>Melbourne</td>\n",
       "      <td>Australia</td>\n",
       "      <td>Street circuit</td>\n",
       "      <td>4</td>\n",
       "      <td>12</td>\n",
       "      <td>57</td>\n",
       "      <td>0</td>\n",
       "    </tr>\n",
       "    <tr>\n",
       "      <th>4</th>\n",
       "      <td>2014</td>\n",
       "      <td>australian</td>\n",
       "      <td>Valtteri Bottas</td>\n",
       "      <td>williams</td>\n",
       "      <td>10</td>\n",
       "      <td>albert_park</td>\n",
       "      <td>Melbourne</td>\n",
       "      <td>Australia</td>\n",
       "      <td>Street circuit</td>\n",
       "      <td>5</td>\n",
       "      <td>10</td>\n",
       "      <td>57</td>\n",
       "      <td>0</td>\n",
       "    </tr>\n",
       "  </tbody>\n",
       "</table>\n",
       "</div>"
      ],
      "text/plain": [
       "   season grand_prix_name             name constructor  qual_position  \\\n",
       "0    2014      australian     Nico Rosberg    mercedes              3   \n",
       "1    2014      australian  Kevin Magnussen     mclaren              4   \n",
       "2    2014      australian    Jenson Button     mclaren             11   \n",
       "3    2014      australian  Fernando Alonso     ferrari              5   \n",
       "4    2014      australian  Valtteri Bottas    williams             10   \n",
       "\n",
       "    track_name       city    country            type  finish_position  points  \\\n",
       "0  albert_park  Melbourne  Australia  Street circuit                1      25   \n",
       "1  albert_park  Melbourne  Australia  Street circuit                2      18   \n",
       "2  albert_park  Melbourne  Australia  Street circuit                3      15   \n",
       "3  albert_park  Melbourne  Australia  Street circuit                4      12   \n",
       "4  albert_park  Melbourne  Australia  Street circuit                5      10   \n",
       "\n",
       "   number_of_laps  fastest_lap  \n",
       "0              57            1  \n",
       "1              57            0  \n",
       "2              57            0  \n",
       "3              57            0  \n",
       "4              57            0  "
      ]
     },
     "execution_count": 7,
     "metadata": {},
     "output_type": "execute_result"
    }
   ],
   "source": [
    "f1_main.limit(5).toPandas()"
   ]
  },
  {
   "cell_type": "code",
   "execution_count": 8,
   "metadata": {},
   "outputs": [
    {
     "name": "stderr",
     "output_type": "stream",
     "text": [
      "                                                                                \r"
     ]
    },
    {
     "data": {
      "text/plain": [
       "3415"
      ]
     },
     "execution_count": 8,
     "metadata": {},
     "output_type": "execute_result"
    }
   ],
   "source": [
    "f1_main.count()"
   ]
  },
  {
   "cell_type": "code",
   "execution_count": 9,
   "metadata": {},
   "outputs": [
    {
     "data": {
      "text/plain": [
       "8"
      ]
     },
     "execution_count": 9,
     "metadata": {},
     "output_type": "execute_result"
    }
   ],
   "source": [
    "f1_main.filter(f1_main.season.isNull()).count()"
   ]
  },
  {
   "cell_type": "code",
   "execution_count": 10,
   "metadata": {},
   "outputs": [
    {
     "data": {
      "text/plain": [
       "[Row(season=None, grand_prix_name=None, name=None, constructor=None, qual_position=None, track_name=None, city=None, country=None, type=None, finish_position=None, points=None, number_of_laps=None, fastest_lap=None),\n",
       " Row(season=None, grand_prix_name=None, name=None, constructor=None, qual_position=None, track_name=None, city=None, country=None, type=None, finish_position=None, points=None, number_of_laps=None, fastest_lap=None),\n",
       " Row(season=None, grand_prix_name=None, name=None, constructor=None, qual_position=None, track_name=None, city=None, country=None, type=None, finish_position=None, points=None, number_of_laps=None, fastest_lap=None),\n",
       " Row(season=None, grand_prix_name=None, name=None, constructor=None, qual_position=None, track_name=None, city=None, country=None, type=None, finish_position=None, points=None, number_of_laps=None, fastest_lap=None),\n",
       " Row(season=None, grand_prix_name=None, name=None, constructor=None, qual_position=None, track_name=None, city=None, country=None, type=None, finish_position=None, points=None, number_of_laps=None, fastest_lap=None),\n",
       " Row(season=None, grand_prix_name=None, name=None, constructor=None, qual_position=None, track_name=None, city=None, country=None, type=None, finish_position=None, points=None, number_of_laps=None, fastest_lap=None),\n",
       " Row(season=None, grand_prix_name=None, name=None, constructor=None, qual_position=None, track_name=None, city=None, country=None, type=None, finish_position=None, points=None, number_of_laps=None, fastest_lap=None),\n",
       " Row(season=None, grand_prix_name=None, name=None, constructor=None, qual_position=None, track_name=None, city=None, country=None, type=None, finish_position=None, points=None, number_of_laps=None, fastest_lap=None)]"
      ]
     },
     "execution_count": 10,
     "metadata": {},
     "output_type": "execute_result"
    }
   ],
   "source": [
    "f1_main.tail(8)"
   ]
  },
  {
   "cell_type": "markdown",
   "metadata": {},
   "source": [
    "Now that we know the length of the data is 3415 rows and there are 8 null rows, we need to take them out."
   ]
  },
  {
   "cell_type": "code",
   "execution_count": 11,
   "metadata": {},
   "outputs": [
    {
     "data": {
      "text/plain": [
       "3407"
      ]
     },
     "execution_count": 11,
     "metadata": {},
     "output_type": "execute_result"
    }
   ],
   "source": [
    "f1_main = f1_main.limit(3407)\n",
    "f1_main.count()"
   ]
  },
  {
   "cell_type": "code",
   "execution_count": 12,
   "metadata": {},
   "outputs": [],
   "source": [
    "# There was one pesky null value that was not allowing the model to fit\n",
    "\n",
    "f1_main = f1_main.filter(\"qual_position IS NOT NULL\")\n",
    "f1_main = f1_main.filter(\"points IS NOT NULL\")"
   ]
  },
  {
   "cell_type": "code",
   "execution_count": null,
   "metadata": {},
   "outputs": [],
   "source": []
  },
  {
   "cell_type": "markdown",
   "metadata": {},
   "source": [
    "<a id='3'></a>\n",
    "## 3. Data sets Meta Analysis"
   ]
  },
  {
   "cell_type": "code",
   "execution_count": 13,
   "metadata": {},
   "outputs": [
    {
     "name": "stdout",
     "output_type": "stream",
     "text": [
      "root\n",
      " |-- season: integer (nullable = true)\n",
      " |-- grand_prix_name: string (nullable = true)\n",
      " |-- name: string (nullable = true)\n",
      " |-- constructor: string (nullable = true)\n",
      " |-- qual_position: integer (nullable = true)\n",
      " |-- track_name: string (nullable = true)\n",
      " |-- city: string (nullable = true)\n",
      " |-- country: string (nullable = true)\n",
      " |-- type: string (nullable = true)\n",
      " |-- finish_position: integer (nullable = true)\n",
      " |-- points: integer (nullable = true)\n",
      " |-- number_of_laps: integer (nullable = true)\n",
      " |-- fastest_lap: integer (nullable = true)\n",
      "\n"
     ]
    },
    {
     "data": {
      "text/markdown": [
       "This F1 DataFrame has **3405 rows**."
      ],
      "text/plain": [
       "<IPython.core.display.Markdown object>"
      ]
     },
     "metadata": {},
     "output_type": "display_data"
    }
   ],
   "source": [
    "from IPython.display import display, Markdown\n",
    "f1_main.printSchema()\n",
    "display(Markdown(\"This F1 DataFrame has **%d rows**.\" % f1_main.count()))"
   ]
  },
  {
   "cell_type": "markdown",
   "metadata": {},
   "source": [
    "Here we are importing all the libraries for the further analysis."
   ]
  },
  {
   "cell_type": "code",
   "execution_count": 14,
   "metadata": {},
   "outputs": [],
   "source": [
    "from pyspark.sql.types import *\n",
    "import pyspark.sql.functions as F\n",
    "import matplotlib.pyplot as plt\n",
    "import seaborn as sns"
   ]
  },
  {
   "cell_type": "code",
   "execution_count": null,
   "metadata": {},
   "outputs": [],
   "source": []
  },
  {
   "cell_type": "code",
   "execution_count": null,
   "metadata": {},
   "outputs": [],
   "source": []
  },
  {
   "cell_type": "markdown",
   "metadata": {},
   "source": [
    "### Has the number of races changed in the past 8 seasons?"
   ]
  },
  {
   "cell_type": "code",
   "execution_count": 15,
   "metadata": {},
   "outputs": [
    {
     "data": {
      "text/html": [
       "<div>\n",
       "<style scoped>\n",
       "    .dataframe tbody tr th:only-of-type {\n",
       "        vertical-align: middle;\n",
       "    }\n",
       "\n",
       "    .dataframe tbody tr th {\n",
       "        vertical-align: top;\n",
       "    }\n",
       "\n",
       "    .dataframe thead th {\n",
       "        text-align: right;\n",
       "    }\n",
       "</style>\n",
       "<table border=\"1\" class=\"dataframe\">\n",
       "  <thead>\n",
       "    <tr style=\"text-align: right;\">\n",
       "      <th></th>\n",
       "      <th>season</th>\n",
       "      <th>races</th>\n",
       "    </tr>\n",
       "  </thead>\n",
       "  <tbody>\n",
       "    <tr>\n",
       "      <th>0</th>\n",
       "      <td>2014</td>\n",
       "      <td>19</td>\n",
       "    </tr>\n",
       "    <tr>\n",
       "      <th>1</th>\n",
       "      <td>2015</td>\n",
       "      <td>19</td>\n",
       "    </tr>\n",
       "    <tr>\n",
       "      <th>2</th>\n",
       "      <td>2016</td>\n",
       "      <td>21</td>\n",
       "    </tr>\n",
       "    <tr>\n",
       "      <th>3</th>\n",
       "      <td>2017</td>\n",
       "      <td>20</td>\n",
       "    </tr>\n",
       "    <tr>\n",
       "      <th>4</th>\n",
       "      <td>2018</td>\n",
       "      <td>21</td>\n",
       "    </tr>\n",
       "    <tr>\n",
       "      <th>5</th>\n",
       "      <td>2019</td>\n",
       "      <td>21</td>\n",
       "    </tr>\n",
       "    <tr>\n",
       "      <th>6</th>\n",
       "      <td>2020</td>\n",
       "      <td>17</td>\n",
       "    </tr>\n",
       "    <tr>\n",
       "      <th>7</th>\n",
       "      <td>2021</td>\n",
       "      <td>21</td>\n",
       "    </tr>\n",
       "    <tr>\n",
       "      <th>8</th>\n",
       "      <td>2022</td>\n",
       "      <td>8</td>\n",
       "    </tr>\n",
       "  </tbody>\n",
       "</table>\n",
       "</div>"
      ],
      "text/plain": [
       "   season  races\n",
       "0    2014     19\n",
       "1    2015     19\n",
       "2    2016     21\n",
       "3    2017     20\n",
       "4    2018     21\n",
       "5    2019     21\n",
       "6    2020     17\n",
       "7    2021     21\n",
       "8    2022      8"
      ]
     },
     "execution_count": 15,
     "metadata": {},
     "output_type": "execute_result"
    }
   ],
   "source": [
    "numberRaces = f1_main[['season', 'grand_prix_name']]\\\n",
    "            .groupby('season')\\\n",
    "            .agg(F.countDistinct('grand_prix_name')\\\n",
    "            .alias('races'))\\\n",
    "            .sort(F.col('season').asc()).toPandas()\n",
    "numberRaces"
   ]
  },
  {
   "cell_type": "code",
   "execution_count": 16,
   "metadata": {},
   "outputs": [
    {
     "data": {
      "text/plain": [
       "Text(0, 0.5, '# of Races')"
      ]
     },
     "execution_count": 16,
     "metadata": {},
     "output_type": "execute_result"
    },
    {
     "data": {
      "image/png": "[encoded data removed]",
      "text/plain": [
       "<Figure size 1152x576 with 1 Axes>"
      ]
     },
     "metadata": {
      "needs_background": "light"
     },
     "output_type": "display_data"
    }
   ],
   "source": [
    "plt.figure(figsize=(16, 8))\n",
    "sns.set(style=\"darkgrid\")\n",
    "sns.lineplot(x=\"season\", y=\"races\", data=numberRaces, color=\"steelblue\", marker=\"o\")\n",
    "# adding chart title\n",
    "plt.title('Number of races per year')\n",
    "\n",
    "# adding labels on bar chart\n",
    "for index, row in numberRaces.iterrows():\n",
    "    plt.text(row.season, row.races + 0.2, row.races, color='black', ha=\"center\", size=9)\n",
    "    \n",
    "# adding custom labels for axes\n",
    "plt.xlabel(\"Season\")\n",
    "plt.ylabel(\"# of Races\")"
   ]
  },
  {
   "cell_type": "markdown",
   "metadata": {},
   "source": [
    "The 2020 Season was drastically effected by Covid19"
   ]
  },
  {
   "cell_type": "code",
   "execution_count": null,
   "metadata": {},
   "outputs": [],
   "source": []
  },
  {
   "cell_type": "markdown",
   "metadata": {},
   "source": [
    "## Which driver has won the most races?"
   ]
  },
  {
   "cell_type": "code",
   "execution_count": 17,
   "metadata": {},
   "outputs": [
    {
     "data": {
      "text/html": [
       "<div>\n",
       "<style scoped>\n",
       "    .dataframe tbody tr th:only-of-type {\n",
       "        vertical-align: middle;\n",
       "    }\n",
       "\n",
       "    .dataframe tbody tr th {\n",
       "        vertical-align: top;\n",
       "    }\n",
       "\n",
       "    .dataframe thead th {\n",
       "        text-align: right;\n",
       "    }\n",
       "</style>\n",
       "<table border=\"1\" class=\"dataframe\">\n",
       "  <thead>\n",
       "    <tr style=\"text-align: right;\">\n",
       "      <th></th>\n",
       "      <th>name</th>\n",
       "      <th>races</th>\n",
       "    </tr>\n",
       "  </thead>\n",
       "  <tbody>\n",
       "    <tr>\n",
       "      <th>0</th>\n",
       "      <td>Valtteri Bottas</td>\n",
       "      <td>167</td>\n",
       "    </tr>\n",
       "    <tr>\n",
       "      <th>1</th>\n",
       "      <td>Daniel Ricciardo</td>\n",
       "      <td>167</td>\n",
       "    </tr>\n",
       "    <tr>\n",
       "      <th>2</th>\n",
       "      <td>Lewis Hamilton</td>\n",
       "      <td>166</td>\n",
       "    </tr>\n",
       "    <tr>\n",
       "      <th>3</th>\n",
       "      <td>Sergio Perez</td>\n",
       "      <td>165</td>\n",
       "    </tr>\n",
       "    <tr>\n",
       "      <th>4</th>\n",
       "      <td>Sebastian Vettel</td>\n",
       "      <td>165</td>\n",
       "    </tr>\n",
       "    <tr>\n",
       "      <th>5</th>\n",
       "      <td>Kimi Raikkonen</td>\n",
       "      <td>157</td>\n",
       "    </tr>\n",
       "    <tr>\n",
       "      <th>6</th>\n",
       "      <td>Carlos Sainz</td>\n",
       "      <td>148</td>\n",
       "    </tr>\n",
       "    <tr>\n",
       "      <th>7</th>\n",
       "      <td>Max Verstappen</td>\n",
       "      <td>148</td>\n",
       "    </tr>\n",
       "    <tr>\n",
       "      <th>8</th>\n",
       "      <td>Romain Grosjean</td>\n",
       "      <td>136</td>\n",
       "    </tr>\n",
       "    <tr>\n",
       "      <th>9</th>\n",
       "      <td>Kevin Magnussen</td>\n",
       "      <td>128</td>\n",
       "    </tr>\n",
       "  </tbody>\n",
       "</table>\n",
       "</div>"
      ],
      "text/plain": [
       "               name  races\n",
       "0   Valtteri Bottas    167\n",
       "1  Daniel Ricciardo    167\n",
       "2    Lewis Hamilton    166\n",
       "3      Sergio Perez    165\n",
       "4  Sebastian Vettel    165\n",
       "5    Kimi Raikkonen    157\n",
       "6      Carlos Sainz    148\n",
       "7    Max Verstappen    148\n",
       "8   Romain Grosjean    136\n",
       "9   Kevin Magnussen    128"
      ]
     },
     "execution_count": 17,
     "metadata": {},
     "output_type": "execute_result"
    }
   ],
   "source": [
    "most_races = f1_main.groupBy('name').agg(F.count('finish_position')\\\n",
    "        .alias(\"races\"))\\\n",
    "        .sort(F.col('races').desc()).toPandas()\n",
    "        #.filter(F.col('first_place_finish') == 1).toPandas()\n",
    "most_races.head(10)"
   ]
  },
  {
   "cell_type": "code",
   "execution_count": 18,
   "metadata": {},
   "outputs": [
    {
     "data": {
      "text/html": [
       "<div>\n",
       "<style scoped>\n",
       "    .dataframe tbody tr th:only-of-type {\n",
       "        vertical-align: middle;\n",
       "    }\n",
       "\n",
       "    .dataframe tbody tr th {\n",
       "        vertical-align: top;\n",
       "    }\n",
       "\n",
       "    .dataframe thead th {\n",
       "        text-align: right;\n",
       "    }\n",
       "</style>\n",
       "<table border=\"1\" class=\"dataframe\">\n",
       "  <thead>\n",
       "    <tr style=\"text-align: right;\">\n",
       "      <th></th>\n",
       "      <th>name</th>\n",
       "      <th>first_place</th>\n",
       "    </tr>\n",
       "  </thead>\n",
       "  <tbody>\n",
       "    <tr>\n",
       "      <th>0</th>\n",
       "      <td>Lewis Hamilton</td>\n",
       "      <td>80</td>\n",
       "    </tr>\n",
       "    <tr>\n",
       "      <th>1</th>\n",
       "      <td>Max Verstappen</td>\n",
       "      <td>25</td>\n",
       "    </tr>\n",
       "    <tr>\n",
       "      <th>2</th>\n",
       "      <td>Nico Rosberg</td>\n",
       "      <td>20</td>\n",
       "    </tr>\n",
       "    <tr>\n",
       "      <th>3</th>\n",
       "      <td>Sebastian Vettel</td>\n",
       "      <td>14</td>\n",
       "    </tr>\n",
       "    <tr>\n",
       "      <th>4</th>\n",
       "      <td>Valtteri Bottas</td>\n",
       "      <td>10</td>\n",
       "    </tr>\n",
       "    <tr>\n",
       "      <th>5</th>\n",
       "      <td>Daniel Ricciardo</td>\n",
       "      <td>8</td>\n",
       "    </tr>\n",
       "    <tr>\n",
       "      <th>6</th>\n",
       "      <td>Charles Leclerc</td>\n",
       "      <td>4</td>\n",
       "    </tr>\n",
       "    <tr>\n",
       "      <th>7</th>\n",
       "      <td>Sergio Perez</td>\n",
       "      <td>3</td>\n",
       "    </tr>\n",
       "    <tr>\n",
       "      <th>8</th>\n",
       "      <td>Kimi Raikkonen</td>\n",
       "      <td>1</td>\n",
       "    </tr>\n",
       "    <tr>\n",
       "      <th>9</th>\n",
       "      <td>Pierre Gasly</td>\n",
       "      <td>1</td>\n",
       "    </tr>\n",
       "    <tr>\n",
       "      <th>10</th>\n",
       "      <td>Esteban Ocon</td>\n",
       "      <td>1</td>\n",
       "    </tr>\n",
       "  </tbody>\n",
       "</table>\n",
       "</div>"
      ],
      "text/plain": [
       "                name  first_place\n",
       "0     Lewis Hamilton           80\n",
       "1     Max Verstappen           25\n",
       "2       Nico Rosberg           20\n",
       "3   Sebastian Vettel           14\n",
       "4    Valtteri Bottas           10\n",
       "5   Daniel Ricciardo            8\n",
       "6    Charles Leclerc            4\n",
       "7       Sergio Perez            3\n",
       "8     Kimi Raikkonen            1\n",
       "9       Pierre Gasly            1\n",
       "10      Esteban Ocon            1"
      ]
     },
     "execution_count": 18,
     "metadata": {},
     "output_type": "execute_result"
    }
   ],
   "source": [
    "#df.filter(df.state == \"OH\").show(truncate=False)\n",
    "winners = f1_main.filter(f1_main.finish_position == 1)\n",
    "winners.toPandas()\n",
    "\n",
    "winners_sorted = winners.groupby('name').agg(F.count('*')\\\n",
    "        .alias('first_place'))\\\n",
    "        .sort(F.col('first_place').desc()).toPandas()\n",
    "\n",
    "winners_sorted"
   ]
  },
  {
   "cell_type": "code",
   "execution_count": null,
   "metadata": {},
   "outputs": [],
   "source": []
  },
  {
   "cell_type": "code",
   "execution_count": null,
   "metadata": {},
   "outputs": [],
   "source": []
  },
  {
   "cell_type": "code",
   "execution_count": null,
   "metadata": {},
   "outputs": [],
   "source": []
  },
  {
   "cell_type": "code",
   "execution_count": null,
   "metadata": {},
   "outputs": [],
   "source": []
  },
  {
   "cell_type": "code",
   "execution_count": null,
   "metadata": {},
   "outputs": [],
   "source": []
  },
  {
   "cell_type": "markdown",
   "metadata": {},
   "source": [
    "<a id='4'></a>\n",
    "## 6. Machine Learning\n"
   ]
  },
  {
   "cell_type": "markdown",
   "metadata": {},
   "source": [
    "With the `f1_main` data we are now creating a model to predict the points earned for each driver at the end of a race. <br/>\n",
    "We will validate our model with the real race data from a finished race."
   ]
  },
  {
   "cell_type": "code",
   "execution_count": 19,
   "metadata": {},
   "outputs": [],
   "source": [
    "from pyspark.ml.regression import RandomForestRegressor\n",
    "from pyspark.ml.regression import LinearRegression\n",
    "from pyspark.ml.feature import OneHotEncoder, StringIndexer, StandardScaler, CountVectorizer, VectorAssembler\n",
    "from pyspark.ml import Pipeline\n",
    "from pyspark.ml import *\n",
    "from pyspark.sql.functions import *\n",
    "import copy\n",
    "from pyspark.sql.types import *\n",
    "import numpy as np\n",
    "from pyspark.ml.classification import LogisticRegression\n",
    "from pyspark.ml.classification import NaiveBayes\n",
    "from pyspark.ml.classification import LinearSVC"
   ]
  },
  {
   "cell_type": "code",
   "execution_count": 20,
   "metadata": {},
   "outputs": [
    {
     "data": {
      "text/plain": [
       "[('season', 'int'),\n",
       " ('grand_prix_name', 'string'),\n",
       " ('name', 'string'),\n",
       " ('constructor', 'string'),\n",
       " ('qual_position', 'int'),\n",
       " ('track_name', 'string'),\n",
       " ('city', 'string'),\n",
       " ('country', 'string'),\n",
       " ('type', 'string'),\n",
       " ('finish_position', 'int'),\n",
       " ('points', 'int'),\n",
       " ('number_of_laps', 'int'),\n",
       " ('fastest_lap', 'int')]"
      ]
     },
     "execution_count": 20,
     "metadata": {},
     "output_type": "execute_result"
    }
   ],
   "source": [
    "f1_main.dtypes"
   ]
  },
  {
   "cell_type": "code",
   "execution_count": 21,
   "metadata": {},
   "outputs": [],
   "source": [
    "#f1_main = f1_main.withColumn('fastest_lap', f1_main.fastest_lap.cast('boolean'))"
   ]
  },
  {
   "cell_type": "code",
   "execution_count": 22,
   "metadata": {},
   "outputs": [
    {
     "data": {
      "text/html": [
       "<div>\n",
       "<style scoped>\n",
       "    .dataframe tbody tr th:only-of-type {\n",
       "        vertical-align: middle;\n",
       "    }\n",
       "\n",
       "    .dataframe tbody tr th {\n",
       "        vertical-align: top;\n",
       "    }\n",
       "\n",
       "    .dataframe thead th {\n",
       "        text-align: right;\n",
       "    }\n",
       "</style>\n",
       "<table border=\"1\" class=\"dataframe\">\n",
       "  <thead>\n",
       "    <tr style=\"text-align: right;\">\n",
       "      <th></th>\n",
       "      <th>0</th>\n",
       "      <th>1</th>\n",
       "    </tr>\n",
       "  </thead>\n",
       "  <tbody>\n",
       "    <tr>\n",
       "      <th>season</th>\n",
       "      <td>2014</td>\n",
       "      <td>2014</td>\n",
       "    </tr>\n",
       "    <tr>\n",
       "      <th>grand_prix_name</th>\n",
       "      <td>australian</td>\n",
       "      <td>australian</td>\n",
       "    </tr>\n",
       "    <tr>\n",
       "      <th>name</th>\n",
       "      <td>Nico Rosberg</td>\n",
       "      <td>Kevin Magnussen</td>\n",
       "    </tr>\n",
       "    <tr>\n",
       "      <th>constructor</th>\n",
       "      <td>mercedes</td>\n",
       "      <td>mclaren</td>\n",
       "    </tr>\n",
       "    <tr>\n",
       "      <th>qual_position</th>\n",
       "      <td>3</td>\n",
       "      <td>4</td>\n",
       "    </tr>\n",
       "    <tr>\n",
       "      <th>track_name</th>\n",
       "      <td>albert_park</td>\n",
       "      <td>albert_park</td>\n",
       "    </tr>\n",
       "    <tr>\n",
       "      <th>city</th>\n",
       "      <td>Melbourne</td>\n",
       "      <td>Melbourne</td>\n",
       "    </tr>\n",
       "    <tr>\n",
       "      <th>country</th>\n",
       "      <td>Australia</td>\n",
       "      <td>Australia</td>\n",
       "    </tr>\n",
       "    <tr>\n",
       "      <th>type</th>\n",
       "      <td>Street circuit</td>\n",
       "      <td>Street circuit</td>\n",
       "    </tr>\n",
       "    <tr>\n",
       "      <th>finish_position</th>\n",
       "      <td>1</td>\n",
       "      <td>2</td>\n",
       "    </tr>\n",
       "    <tr>\n",
       "      <th>points</th>\n",
       "      <td>25</td>\n",
       "      <td>18</td>\n",
       "    </tr>\n",
       "    <tr>\n",
       "      <th>number_of_laps</th>\n",
       "      <td>57</td>\n",
       "      <td>57</td>\n",
       "    </tr>\n",
       "    <tr>\n",
       "      <th>fastest_lap</th>\n",
       "      <td>1</td>\n",
       "      <td>0</td>\n",
       "    </tr>\n",
       "  </tbody>\n",
       "</table>\n",
       "</div>"
      ],
      "text/plain": [
       "                              0                1\n",
       "season                     2014             2014\n",
       "grand_prix_name      australian       australian\n",
       "name               Nico Rosberg  Kevin Magnussen\n",
       "constructor            mercedes          mclaren\n",
       "qual_position                 3                4\n",
       "track_name          albert_park      albert_park\n",
       "city                  Melbourne        Melbourne\n",
       "country               Australia        Australia\n",
       "type             Street circuit   Street circuit\n",
       "finish_position               1                2\n",
       "points                       25               18\n",
       "number_of_laps               57               57\n",
       "fastest_lap                   1                0"
      ]
     },
     "execution_count": 22,
     "metadata": {},
     "output_type": "execute_result"
    }
   ],
   "source": [
    "f1_main.limit(2).toPandas().T"
   ]
  },
  {
   "cell_type": "markdown",
   "metadata": {},
   "source": [
    "First we label our target variable"
   ]
  },
  {
   "cell_type": "code",
   "execution_count": 23,
   "metadata": {},
   "outputs": [],
   "source": [
    "label_columns = 'points'"
   ]
  },
  {
   "cell_type": "code",
   "execution_count": 24,
   "metadata": {},
   "outputs": [
    {
     "data": {
      "text/plain": [
       "['season',\n",
       " 'grand_prix_name',\n",
       " 'name',\n",
       " 'constructor',\n",
       " 'qual_position',\n",
       " 'track_name',\n",
       " 'city',\n",
       " 'country',\n",
       " 'type',\n",
       " 'finish_position',\n",
       " 'points',\n",
       " 'number_of_laps',\n",
       " 'fastest_lap']"
      ]
     },
     "execution_count": 24,
     "metadata": {},
     "output_type": "execute_result"
    }
   ],
   "source": [
    "f1_main.columns"
   ]
  },
  {
   "cell_type": "markdown",
   "metadata": {},
   "source": [
    "<a id='6.1'></a>\n",
    "## 6.1 Feature Transformation"
   ]
  },
  {
   "cell_type": "markdown",
   "metadata": {},
   "source": [
    "Now we separate into categorical and numerical columns"
   ]
  },
  {
   "cell_type": "code",
   "execution_count": 25,
   "metadata": {},
   "outputs": [
    {
     "name": "stdout",
     "output_type": "stream",
     "text": [
      "categorical columns: ['season', 'grand_prix_name', 'name', 'constructor', 'track_name', 'city', 'country', 'type']\n",
      "numerical columns: ['qual_position', 'number_of_laps']\n"
     ]
    }
   ],
   "source": [
    "cat_cols = [field for (field, dataType)\\\n",
    "                   in f1_main.dtypes\\\n",
    "                   if ((dataType == \"string\") | (dataType == 'int')\\\n",
    "                       & (field in ('grand_prix_name', 'constructor', 'country', 'city', 'type', 'season', 'track_name', 'name')))]\n",
    "    #'direction', 'country', 'locality', 'type', 'season', 'round', 'qual_position', 'grid', 'race_name')))]\n",
    "\n",
    "\n",
    "\n",
    "num_cols = [field for (field, dataType) in f1_main.dtypes\\\n",
    "               if ((dataType == 'int')\\\n",
    "                   & (field in ('number_of_laps', 'qual_position')))]\n",
    "    #'q_mean', 'q_best', 'q_worst', 'length', 'ageDuringRace', 'finish_position', 'filled_splits')))]\n",
    "                       \n",
    "\n",
    "\n",
    "print (f\"categorical columns: {cat_cols}\")\n",
    "print (f\"numerical columns: {num_cols}\")"
   ]
  },
  {
   "cell_type": "code",
   "execution_count": null,
   "metadata": {},
   "outputs": [],
   "source": []
  },
  {
   "cell_type": "code",
   "execution_count": 26,
   "metadata": {},
   "outputs": [],
   "source": [
    "indexers = [StringIndexer(inputCol = c, outputCol=\"{0}_indexed\".format(c)) for c in cat_cols]"
   ]
  },
  {
   "cell_type": "code",
   "execution_count": 27,
   "metadata": {},
   "outputs": [],
   "source": [
    "## ME\n",
    "\n",
    "#indexer = [StringIndexer(inputCol = c, outputCol =\"{0}_indexed\".format(c)) for c in cat]\n",
    "#indexer\n",
    "pd.options.display.max_columns = None\n",
    "\n",
    "#_show = f1_main.filter(\"qual_position IS NOT NULL\")#.where(col('qual_position') == None)\n",
    "#_show_pandas =_show.toPandas()\n",
    "#_show_pandas[_show_pandas['qual_position'].isna() == True]\n",
    "#_show.describe().toPandas()"
   ]
  },
  {
   "cell_type": "markdown",
   "metadata": {},
   "source": [
    "We need to encode the categorical columns"
   ]
  },
  {
   "cell_type": "code",
   "execution_count": 28,
   "metadata": {},
   "outputs": [],
   "source": [
    "from pyspark.ml.feature import OneHotEncoder, StringIndexer\n",
    "outputCol=[\"{0}_indexed\".format(c) for c in cat_cols]\n",
    "outputCol_enc = [\"{0}_encoded\".format(indexer.getOutputCol()) for indexer in indexers ]\n",
    "stringIndexer = StringIndexer(inputCols=cat_cols, outputCols=outputCol, handleInvalid=\"skip\")\n",
    "\n",
    "oheEncoder = OneHotEncoder(inputCols=outputCol,outputCols=outputCol_enc)"
   ]
  },
  {
   "cell_type": "markdown",
   "metadata": {},
   "source": [
    "We created a vector for the encoded categorical columns"
   ]
  },
  {
   "cell_type": "code",
   "execution_count": 29,
   "metadata": {},
   "outputs": [
    {
     "data": {
      "text/plain": [
       "['season_indexed_encoded',\n",
       " 'grand_prix_name_indexed_encoded',\n",
       " 'name_indexed_encoded',\n",
       " 'constructor_indexed_encoded',\n",
       " 'track_name_indexed_encoded',\n",
       " 'city_indexed_encoded',\n",
       " 'country_indexed_encoded',\n",
       " 'type_indexed_encoded']"
      ]
     },
     "execution_count": 29,
     "metadata": {},
     "output_type": "execute_result"
    }
   ],
   "source": [
    "in_col_assembler = [e for e in outputCol_enc]\n",
    "\n",
    "cat_col_assembler = VectorAssembler(inputCols = in_col_assembler, outputCol = 'categorical')\n",
    "\n",
    "in_col_assembler"
   ]
  },
  {
   "cell_type": "markdown",
   "metadata": {},
   "source": [
    "We create a pipeline for the categorical columns and fit it to the F1 main Dataset"
   ]
  },
  {
   "cell_type": "code",
   "execution_count": 30,
   "metadata": {},
   "outputs": [
    {
     "name": "stderr",
     "output_type": "stream",
     "text": [
      "                                                                                \r"
     ]
    }
   ],
   "source": [
    "pipeline_cat = Pipeline(stages = [stringIndexer, oheEncoder, cat_col_assembler])\n",
    "f1_main = pipeline_cat.fit(f1_main).transform(f1_main)"
   ]
  },
  {
   "cell_type": "markdown",
   "metadata": {},
   "source": [
    "We need to scale the numerical columns"
   ]
  },
  {
   "cell_type": "code",
   "execution_count": 31,
   "metadata": {},
   "outputs": [
    {
     "name": "stderr",
     "output_type": "stream",
     "text": [
      "                                                                                \r"
     ]
    },
    {
     "data": {
      "text/plain": [
       "['season',\n",
       " 'grand_prix_name',\n",
       " 'name',\n",
       " 'constructor',\n",
       " 'qual_position',\n",
       " 'track_name',\n",
       " 'city',\n",
       " 'country',\n",
       " 'type',\n",
       " 'finish_position',\n",
       " 'points',\n",
       " 'number_of_laps',\n",
       " 'fastest_lap',\n",
       " 'country_indexed',\n",
       " 'season_indexed',\n",
       " 'city_indexed',\n",
       " 'name_indexed',\n",
       " 'type_indexed',\n",
       " 'constructor_indexed',\n",
       " 'grand_prix_name_indexed',\n",
       " 'track_name_indexed',\n",
       " 'grand_prix_name_indexed_encoded',\n",
       " 'country_indexed_encoded',\n",
       " 'city_indexed_encoded',\n",
       " 'type_indexed_encoded',\n",
       " 'name_indexed_encoded',\n",
       " 'constructor_indexed_encoded',\n",
       " 'track_name_indexed_encoded',\n",
       " 'season_indexed_encoded',\n",
       " 'categorical',\n",
       " 'number_of_laps_vec',\n",
       " 'qual_position_vec',\n",
       " 'number_of_laps_scaled',\n",
       " 'qual_position_scaled']"
      ]
     },
     "execution_count": 31,
     "metadata": {},
     "output_type": "execute_result"
    }
   ],
   "source": [
    "from pyspark.ml.feature import MinMaxScaler\n",
    "from pyspark.ml.feature import VectorAssembler\n",
    "\n",
    "from pyspark.ml import Pipeline\n",
    "\n",
    "columns_to_scale = ['number_of_laps', 'qual_position']\n",
    "assemblers = [VectorAssembler(inputCols=[col], outputCol=col + \"_vec\") for col in columns_to_scale]\n",
    "scalers = [MinMaxScaler(inputCol=col + \"_vec\", outputCol=col + \"_scaled\") for col in columns_to_scale]\n",
    "pipeline = Pipeline(stages=assemblers + scalers)\n",
    "scalerModel = pipeline.fit(f1_main)\n",
    "#scaledData = scalerModel.transform(train)\n",
    "\n",
    "f1_main = scalerModel.transform(f1_main)\n",
    "f1_main.columns"
   ]
  },
  {
   "cell_type": "code",
   "execution_count": 32,
   "metadata": {},
   "outputs": [
    {
     "data": {
      "text/plain": [
       "['number_of_laps_scaled', 'qual_position']"
      ]
     },
     "execution_count": 32,
     "metadata": {},
     "output_type": "execute_result"
    }
   ],
   "source": [
    "#in_num_assembler = ['q_best_scaled',\n",
    "# 'q_worst_scaled',\n",
    "# 'q_mean_scaled',\n",
    "# 'ageDuringRace_scaled',\n",
    "# 'length_scaled',\n",
    "# 'filled_splits_scaled',\n",
    "# 'finish_position_scaled']\n",
    "\n",
    "in_num_assembler = ['number_of_laps_scaled',\n",
    "                    'qual_position']\n",
    "\n",
    "\n",
    "in_num_assembler"
   ]
  },
  {
   "cell_type": "markdown",
   "metadata": {},
   "source": [
    "Now we create a vector for the numerical columns"
   ]
  },
  {
   "cell_type": "code",
   "execution_count": 33,
   "metadata": {},
   "outputs": [],
   "source": [
    "assemblerNum = VectorAssembler(inputCols = in_num_assembler, outputCol = \"num\")"
   ]
  },
  {
   "cell_type": "markdown",
   "metadata": {},
   "source": [
    "We create a Pipeline for the numerical columns and fit it to the f1 main Dataset"
   ]
  },
  {
   "cell_type": "code",
   "execution_count": 34,
   "metadata": {},
   "outputs": [],
   "source": [
    "pipelineNum = Pipeline(stages = [assemblerNum])\n",
    "f1_main = pipelineNum.fit(f1_main).transform(f1_main)"
   ]
  },
  {
   "cell_type": "markdown",
   "metadata": {},
   "source": [
    "Finally we create an additional vector assembler for both categorical and numerical columns that outputs are features"
   ]
  },
  {
   "cell_type": "code",
   "execution_count": 35,
   "metadata": {},
   "outputs": [],
   "source": [
    "assembler = VectorAssembler(inputCols = [\"categorical\", \"num\"], outputCol = \"features\")"
   ]
  },
  {
   "cell_type": "markdown",
   "metadata": {},
   "source": [
    "<a id='6.2'></a>\n",
    "## 6.2 Model Training & Selection"
   ]
  },
  {
   "cell_type": "markdown",
   "metadata": {},
   "source": [
    "Now we split the Dataset to Train and Test"
   ]
  },
  {
   "cell_type": "code",
   "execution_count": 36,
   "metadata": {},
   "outputs": [],
   "source": [
    "#train = f1_main.filter(f1_main.season < 2022)\n",
    "#test = f1_main.filter(f1_main.season == 2022)\n"
   ]
  },
  {
   "cell_type": "code",
   "execution_count": 37,
   "metadata": {},
   "outputs": [],
   "source": [
    "seed = 42\n",
    "(train, test) = f1_main.filter(f1_main.season != 2022).randomSplit([0.8,0.2],seed=seed)\n",
    "\n",
    "test2022 = f1_main.filter(f1_main.season == 2022)"
   ]
  },
  {
   "cell_type": "code",
   "execution_count": 38,
   "metadata": {},
   "outputs": [
    {
     "data": {
      "text/plain": [
       "pyspark.sql.dataframe.DataFrame"
      ]
     },
     "execution_count": 38,
     "metadata": {},
     "output_type": "execute_result"
    }
   ],
   "source": [
    "type(train)"
   ]
  },
  {
   "cell_type": "code",
   "execution_count": null,
   "metadata": {},
   "outputs": [],
   "source": []
  },
  {
   "cell_type": "markdown",
   "metadata": {},
   "source": [
    "Now we are going to test different algorithms and we will choose the one with the best evaluator score for our data"
   ]
  },
  {
   "cell_type": "code",
   "execution_count": 39,
   "metadata": {},
   "outputs": [],
   "source": [
    "l = LinearRegression(labelCol = 'points', featuresCol = 'features')\n",
    "lr = LogisticRegression(labelCol='points', featuresCol=\"features\")\n",
    "nb = NaiveBayes(labelCol='points', featuresCol=\"features\")\n",
    "svm = LinearSVC(labelCol='points', featuresCol=\"features\")\n",
    "rfr = RandomForestRegressor(labelCol= 'points', featuresCol = 'features', numTrees=2000)"
   ]
  },
  {
   "cell_type": "markdown",
   "metadata": {},
   "source": [
    "**Linear regression**"
   ]
  },
  {
   "cell_type": "code",
   "execution_count": 40,
   "metadata": {},
   "outputs": [
    {
     "name": "stderr",
     "output_type": "stream",
     "text": [
      "                                                                                \r"
     ]
    }
   ],
   "source": [
    "from pyspark.ml.evaluation import RegressionEvaluator\n",
    "l_pipeline = Pipeline(stages = [assembler,l])\n",
    "l_model = l_pipeline.fit(train)\n",
    "l_evaluator = RegressionEvaluator(predictionCol = 'prediction', labelCol = 'points', metricName = 'r2')"
   ]
  },
  {
   "cell_type": "code",
   "execution_count": 41,
   "metadata": {},
   "outputs": [
    {
     "data": {
      "text/plain": [
       "0.5787554334802506"
      ]
     },
     "execution_count": 41,
     "metadata": {},
     "output_type": "execute_result"
    }
   ],
   "source": [
    "prediction_l = l_model.transform(test)\n",
    "r2_l = l_evaluator.evaluate(prediction_l)\n",
    "r2_l"
   ]
  },
  {
   "cell_type": "markdown",
   "metadata": {},
   "source": [
    "**Logistic regression**"
   ]
  },
  {
   "cell_type": "code",
   "execution_count": 42,
   "metadata": {},
   "outputs": [],
   "source": [
    "from pyspark.ml.evaluation import MulticlassClassificationEvaluator\n",
    "lr_pipeline = Pipeline(stages = [assembler, lr])\n",
    "lr_model = lr_pipeline.fit(train)\n",
    "lr_evaluator = MulticlassClassificationEvaluator(labelCol=\"points\",  metricName=\"accuracy\")"
   ]
  },
  {
   "cell_type": "code",
   "execution_count": 43,
   "metadata": {},
   "outputs": [
    {
     "data": {
      "text/plain": [
       "0.5042016806722689"
      ]
     },
     "execution_count": 43,
     "metadata": {},
     "output_type": "execute_result"
    }
   ],
   "source": [
    "prediction_lr = lr_model.transform(test)\n",
    "accuracy_lr = lr_evaluator.evaluate(prediction_lr)\n",
    "accuracy_lr"
   ]
  },
  {
   "cell_type": "markdown",
   "metadata": {},
   "source": [
    "**Naive Bayes**"
   ]
  },
  {
   "cell_type": "code",
   "execution_count": 44,
   "metadata": {},
   "outputs": [],
   "source": [
    "nb_pipeline = Pipeline(stages = [assembler,nb])\n",
    "nb_model = nb_pipeline.fit(train)\n",
    "evaluator_nb = MulticlassClassificationEvaluator(labelCol=\"points\",  metricName=\"accuracy\")"
   ]
  },
  {
   "cell_type": "code",
   "execution_count": 45,
   "metadata": {},
   "outputs": [
    {
     "data": {
      "text/plain": [
       "0.4638655462184874"
      ]
     },
     "execution_count": 45,
     "metadata": {},
     "output_type": "execute_result"
    }
   ],
   "source": [
    "prediction_nb = nb_model.transform(test)\n",
    "accuracy_nb = evaluator_nb.evaluate(prediction_nb)\n",
    "accuracy_nb"
   ]
  },
  {
   "cell_type": "markdown",
   "metadata": {},
   "source": [
    "**Random Forest**"
   ]
  },
  {
   "cell_type": "code",
   "execution_count": 46,
   "metadata": {},
   "outputs": [
    {
     "name": "stderr",
     "output_type": "stream",
     "text": [
      "                                                                                \r"
     ]
    }
   ],
   "source": [
    "rf_pipeline = Pipeline(stages = [assembler, rfr])\n",
    "rf_model = rf_pipeline.fit(train)\n",
    "evaluator_rf = RegressionEvaluator(predictionCol = 'prediction', labelCol = 'points', metricName = 'r2')"
   ]
  },
  {
   "cell_type": "code",
   "execution_count": 47,
   "metadata": {},
   "outputs": [
    {
     "name": "stderr",
     "output_type": "stream",
     "text": [
      "                                                                                \r"
     ]
    },
    {
     "data": {
      "text/plain": [
       "0.6103570836675208"
      ]
     },
     "execution_count": 47,
     "metadata": {},
     "output_type": "execute_result"
    }
   ],
   "source": [
    "prediction_rf = rf_model.transform(test)\n",
    "accuracy_rf = evaluator_rf.evaluate(prediction_rf)\n",
    "accuracy_rf"
   ]
  },
  {
   "cell_type": "markdown",
   "metadata": {},
   "source": [
    "We are selecting the linear regression and random forest resgressor as our models"
   ]
  },
  {
   "cell_type": "markdown",
   "metadata": {},
   "source": [
    "<a id='6.3'></a>\n",
    "## 6.3 Model Predictions"
   ]
  },
  {
   "cell_type": "markdown",
   "metadata": {},
   "source": [
    "Now that we run 4 models we are going to show the predictions for linear regression and random forest"
   ]
  },
  {
   "cell_type": "markdown",
   "metadata": {},
   "source": [
    "Linear regression predictions"
   ]
  },
  {
   "cell_type": "code",
   "execution_count": 56,
   "metadata": {},
   "outputs": [
    {
     "data": {
      "text/plain": [
       "0.39863037011514424"
      ]
     },
     "execution_count": 56,
     "metadata": {},
     "output_type": "execute_result"
    }
   ],
   "source": [
    "predict_l = l_model.transform(test2022)\n",
    "r2_l = l_evaluator.evaluate(predict_l)\n",
    "r2_l\n"
   ]
  },
  {
   "cell_type": "code",
   "execution_count": 60,
   "metadata": {},
   "outputs": [
    {
     "data": {
      "text/html": [
       "<div>\n",
       "<style scoped>\n",
       "    .dataframe tbody tr th:only-of-type {\n",
       "        vertical-align: middle;\n",
       "    }\n",
       "\n",
       "    .dataframe tbody tr th {\n",
       "        vertical-align: top;\n",
       "    }\n",
       "\n",
       "    .dataframe thead th {\n",
       "        text-align: right;\n",
       "    }\n",
       "</style>\n",
       "<table border=\"1\" class=\"dataframe\">\n",
       "  <thead>\n",
       "    <tr style=\"text-align: right;\">\n",
       "      <th></th>\n",
       "      <th>0</th>\n",
       "      <th>1</th>\n",
       "      <th>2</th>\n",
       "      <th>3</th>\n",
       "      <th>4</th>\n",
       "    </tr>\n",
       "  </thead>\n",
       "  <tbody>\n",
       "    <tr>\n",
       "      <th>name</th>\n",
       "      <td>Charles Leclerc</td>\n",
       "      <td>Carlos Sainz</td>\n",
       "      <td>Lewis Hamilton</td>\n",
       "      <td>George Russell</td>\n",
       "      <td>Kevin Magnussen</td>\n",
       "    </tr>\n",
       "    <tr>\n",
       "      <th>grand_prix_name</th>\n",
       "      <td>bahrain</td>\n",
       "      <td>bahrain</td>\n",
       "      <td>bahrain</td>\n",
       "      <td>bahrain</td>\n",
       "      <td>bahrain</td>\n",
       "    </tr>\n",
       "    <tr>\n",
       "      <th>constructor</th>\n",
       "      <td>ferrari</td>\n",
       "      <td>ferrari</td>\n",
       "      <td>mercedes</td>\n",
       "      <td>mercedes</td>\n",
       "      <td>haas</td>\n",
       "    </tr>\n",
       "    <tr>\n",
       "      <th>qual_position</th>\n",
       "      <td>1</td>\n",
       "      <td>3</td>\n",
       "      <td>5</td>\n",
       "      <td>9</td>\n",
       "      <td>7</td>\n",
       "    </tr>\n",
       "    <tr>\n",
       "      <th>finish_position</th>\n",
       "      <td>1</td>\n",
       "      <td>2</td>\n",
       "      <td>3</td>\n",
       "      <td>4</td>\n",
       "      <td>5</td>\n",
       "    </tr>\n",
       "    <tr>\n",
       "      <th>points</th>\n",
       "      <td>26</td>\n",
       "      <td>18</td>\n",
       "      <td>15</td>\n",
       "      <td>12</td>\n",
       "      <td>10</td>\n",
       "    </tr>\n",
       "    <tr>\n",
       "      <th>prediction</th>\n",
       "      <td>10.413063</td>\n",
       "      <td>10.884899</td>\n",
       "      <td>18.667715</td>\n",
       "      <td>6.500918</td>\n",
       "      <td>3.636327</td>\n",
       "    </tr>\n",
       "  </tbody>\n",
       "</table>\n",
       "</div>"
      ],
      "text/plain": [
       "                               0             1               2  \\\n",
       "name             Charles Leclerc  Carlos Sainz  Lewis Hamilton   \n",
       "grand_prix_name          bahrain       bahrain         bahrain   \n",
       "constructor              ferrari       ferrari        mercedes   \n",
       "qual_position                  1             3               5   \n",
       "finish_position                1             2               3   \n",
       "points                        26            18              15   \n",
       "prediction             10.413063     10.884899       18.667715   \n",
       "\n",
       "                              3                4  \n",
       "name             George Russell  Kevin Magnussen  \n",
       "grand_prix_name         bahrain          bahrain  \n",
       "constructor            mercedes             haas  \n",
       "qual_position                 9                7  \n",
       "finish_position               4                5  \n",
       "points                       12               10  \n",
       "prediction             6.500918         3.636327  "
      ]
     },
     "execution_count": 60,
     "metadata": {},
     "output_type": "execute_result"
    }
   ],
   "source": [
    "predict_l.select(col('name'), \n",
    "                     col('grand_prix_name'), \n",
    "                     col('constructor'),\n",
    "                     col('qual_position'), \n",
    "                     col('finish_position'), \n",
    "                     col('points'), \n",
    "                     col('prediction'))\\\n",
    "                    .limit(5).toPandas().T"
   ]
  },
  {
   "cell_type": "markdown",
   "metadata": {},
   "source": [
    "Random Forest Predictions"
   ]
  },
  {
   "cell_type": "code",
   "execution_count": 61,
   "metadata": {},
   "outputs": [
    {
     "data": {
      "text/plain": [
       "0.5083241299506596"
      ]
     },
     "execution_count": 61,
     "metadata": {},
     "output_type": "execute_result"
    }
   ],
   "source": [
    "predict_rf = rf_model.transform(test2022)\n",
    "accuracy_rf = evaluator_rf.evaluate(predict_rf)\n",
    "accuracy_rf"
   ]
  },
  {
   "cell_type": "code",
   "execution_count": 62,
   "metadata": {},
   "outputs": [
    {
     "data": {
      "text/html": [
       "<div>\n",
       "<style scoped>\n",
       "    .dataframe tbody tr th:only-of-type {\n",
       "        vertical-align: middle;\n",
       "    }\n",
       "\n",
       "    .dataframe tbody tr th {\n",
       "        vertical-align: top;\n",
       "    }\n",
       "\n",
       "    .dataframe thead th {\n",
       "        text-align: right;\n",
       "    }\n",
       "</style>\n",
       "<table border=\"1\" class=\"dataframe\">\n",
       "  <thead>\n",
       "    <tr style=\"text-align: right;\">\n",
       "      <th></th>\n",
       "      <th>0</th>\n",
       "      <th>1</th>\n",
       "      <th>2</th>\n",
       "      <th>3</th>\n",
       "      <th>4</th>\n",
       "    </tr>\n",
       "  </thead>\n",
       "  <tbody>\n",
       "    <tr>\n",
       "      <th>name</th>\n",
       "      <td>Charles Leclerc</td>\n",
       "      <td>Carlos Sainz</td>\n",
       "      <td>Lewis Hamilton</td>\n",
       "      <td>George Russell</td>\n",
       "      <td>Kevin Magnussen</td>\n",
       "    </tr>\n",
       "    <tr>\n",
       "      <th>grand_prix_name</th>\n",
       "      <td>bahrain</td>\n",
       "      <td>bahrain</td>\n",
       "      <td>bahrain</td>\n",
       "      <td>bahrain</td>\n",
       "      <td>bahrain</td>\n",
       "    </tr>\n",
       "    <tr>\n",
       "      <th>constructor</th>\n",
       "      <td>ferrari</td>\n",
       "      <td>ferrari</td>\n",
       "      <td>mercedes</td>\n",
       "      <td>mercedes</td>\n",
       "      <td>haas</td>\n",
       "    </tr>\n",
       "    <tr>\n",
       "      <th>qual_position</th>\n",
       "      <td>1</td>\n",
       "      <td>3</td>\n",
       "      <td>5</td>\n",
       "      <td>9</td>\n",
       "      <td>7</td>\n",
       "    </tr>\n",
       "    <tr>\n",
       "      <th>finish_position</th>\n",
       "      <td>1</td>\n",
       "      <td>2</td>\n",
       "      <td>3</td>\n",
       "      <td>4</td>\n",
       "      <td>5</td>\n",
       "    </tr>\n",
       "    <tr>\n",
       "      <th>points</th>\n",
       "      <td>26</td>\n",
       "      <td>18</td>\n",
       "      <td>15</td>\n",
       "      <td>12</td>\n",
       "      <td>10</td>\n",
       "    </tr>\n",
       "    <tr>\n",
       "      <th>prediction</th>\n",
       "      <td>13.067675</td>\n",
       "      <td>11.325574</td>\n",
       "      <td>16.710867</td>\n",
       "      <td>8.814013</td>\n",
       "      <td>3.135298</td>\n",
       "    </tr>\n",
       "  </tbody>\n",
       "</table>\n",
       "</div>"
      ],
      "text/plain": [
       "                               0             1               2  \\\n",
       "name             Charles Leclerc  Carlos Sainz  Lewis Hamilton   \n",
       "grand_prix_name          bahrain       bahrain         bahrain   \n",
       "constructor              ferrari       ferrari        mercedes   \n",
       "qual_position                  1             3               5   \n",
       "finish_position                1             2               3   \n",
       "points                        26            18              15   \n",
       "prediction             13.067675     11.325574       16.710867   \n",
       "\n",
       "                              3                4  \n",
       "name             George Russell  Kevin Magnussen  \n",
       "grand_prix_name         bahrain          bahrain  \n",
       "constructor            mercedes             haas  \n",
       "qual_position                 9                7  \n",
       "finish_position               4                5  \n",
       "points                       12               10  \n",
       "prediction             8.814013         3.135298  "
      ]
     },
     "execution_count": 62,
     "metadata": {},
     "output_type": "execute_result"
    }
   ],
   "source": [
    "predict_rf.select(col('name'), \n",
    "                     col('grand_prix_name'), \n",
    "                     col('constructor'),\n",
    "                     col('qual_position'), \n",
    "                     col('finish_position'), \n",
    "                     col('points'), \n",
    "                     col('prediction'))\\\n",
    "                    .limit(5).toPandas().T"
   ]
  },
  {
   "cell_type": "markdown",
   "metadata": {},
   "source": [
    "# Takeaways"
   ]
  },
  {
   "cell_type": "markdown",
   "metadata": {},
   "source": [
    "## How can I improve my model?"
   ]
  },
  {
   "cell_type": "markdown",
   "metadata": {},
   "source": [
    "- Learn multi-class classification to predict finish_positions\n",
    "- Run param_grid on parameters for regression\n",
    "- "
   ]
  },
  {
   "cell_type": "code",
   "execution_count": null,
   "metadata": {},
   "outputs": [],
   "source": []
  }
 ],
 "metadata": {
  "kernelspec": {
   "display_name": "Python 3 (ipykernel)",
   "language": "python",
   "name": "python3"
  },
  "language_info": {
   "codemirror_mode": {
    "name": "ipython",
    "version": 3
   },
   "file_extension": ".py",
   "mimetype": "text/x-python",
   "name": "python",
   "nbconvert_exporter": "python",
   "pygments_lexer": "ipython3",
   "version": "3.7.3"
  }
 },
 "nbformat": 4,
 "nbformat_minor": 4
}
